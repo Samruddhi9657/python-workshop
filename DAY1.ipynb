{
  "nbformat": 4,
  "nbformat_minor": 0,
  "metadata": {
    "colab": {
      "provenance": [],
      "authorship_tag": "ABX9TyP/og9pOZjELnMB5vsu8k+k",
      "include_colab_link": true
    },
    "kernelspec": {
      "name": "python3",
      "display_name": "Python 3"
    },
    "language_info": {
      "name": "python"
    }
  },
  "cells": [
    {
      "cell_type": "markdown",
      "metadata": {
        "id": "view-in-github",
        "colab_type": "text"
      },
      "source": [
        "<a href=\"https://colab.research.google.com/github/Samruddhi9657/python-workshop/blob/main/DAY1.ipynb\" target=\"_parent\"><img src=\"https://colab.research.google.com/assets/colab-badge.svg\" alt=\"Open In Colab\"/></a>"
      ]
    },
    {
      "cell_type": "code",
      "execution_count": null,
      "metadata": {
        "id": "5dlXHwpNM8yK",
        "colab": {
          "base_uri": "https://localhost:8080/"
        },
        "outputId": "e6cacc0f-f26c-4695-ac7a-8d50d43a1d03"
      },
      "outputs": [
        {
          "output_type": "stream",
          "name": "stdout",
          "text": [
            "hello\n",
            "world\n"
          ]
        }
      ],
      "source": [
        "import re\n",
        "\n",
        "print(\"hello\\nworld\")"
      ]
    },
    {
      "cell_type": "code",
      "source": [
        "print(r\"hello\\nworld\")"
      ],
      "metadata": {
        "colab": {
          "base_uri": "https://localhost:8080/"
        },
        "id": "fjkFdeKqTT8W",
        "outputId": "efc5447a-3a69-418a-a4b7-8c95d3441128"
      },
      "execution_count": null,
      "outputs": [
        {
          "output_type": "stream",
          "name": "stdout",
          "text": [
            "hello\\nworld\n"
          ]
        }
      ]
    },
    {
      "cell_type": "code",
      "source": [
        "test_string = 'S9A8M7U6'\n"
      ],
      "metadata": {
        "id": "k7vFHa8ITkMc"
      },
      "execution_count": null,
      "outputs": []
    },
    {
      "cell_type": "code",
      "source": [
        "#re.match()"
      ],
      "metadata": {
        "id": "XmmfBL6lT-jT"
      },
      "execution_count": null,
      "outputs": []
    },
    {
      "cell_type": "code",
      "source": [
        "pattern = re.compile(r\"samu\")\n",
        "match = re.match(pattern, test_string)"
      ],
      "metadata": {
        "id": "BV6X37lvUTnT"
      },
      "execution_count": null,
      "outputs": []
    },
    {
      "cell_type": "code",
      "source": [
        "print(match)"
      ],
      "metadata": {
        "colab": {
          "base_uri": "https://localhost:8080/"
        },
        "id": "Ch2SjzAHUm9r",
        "outputId": "772b1ca3-0a1a-4e56-ee8f-d37101af05e7"
      },
      "execution_count": null,
      "outputs": [
        {
          "output_type": "stream",
          "name": "stdout",
          "text": [
            "None\n"
          ]
        }
      ]
    },
    {
      "cell_type": "code",
      "source": [
        "pattern = re.compile(r\"S9A\")\n",
        "match = re.match(pattern, test_string)\n",
        "print(match)"
      ],
      "metadata": {
        "colab": {
          "base_uri": "https://localhost:8080/"
        },
        "id": "zbV7oKIxUwC7",
        "outputId": "2a4ccfb6-c6d1-449f-de13-76deb13db233"
      },
      "execution_count": null,
      "outputs": [
        {
          "output_type": "stream",
          "name": "stdout",
          "text": [
            "<re.Match object; span=(0, 3), match='S9A'>\n"
          ]
        }
      ]
    },
    {
      "cell_type": "code",
      "source": [
        "match.span()"
      ],
      "metadata": {
        "colab": {
          "base_uri": "https://localhost:8080/"
        },
        "id": "bFojRuUTVZik",
        "outputId": "debcd018-fab5-4a18-90c4-72d83ada25d7"
      },
      "execution_count": null,
      "outputs": [
        {
          "output_type": "execute_result",
          "data": {
            "text/plain": [
              "(0, 3)"
            ]
          },
          "metadata": {},
          "execution_count": 8
        }
      ]
    },
    {
      "cell_type": "code",
      "source": [
        "start_index,end_index = match.span()\n",
        "test_string[start_index:end_index]"
      ],
      "metadata": {
        "id": "ssgnW8xhViQz",
        "colab": {
          "base_uri": "https://localhost:8080/",
          "height": 35
        },
        "outputId": "d7f821ed-cf16-4cdc-de0b-09ab8d8d6a62"
      },
      "execution_count": null,
      "outputs": [
        {
          "output_type": "execute_result",
          "data": {
            "text/plain": [
              "'S9A'"
            ],
            "application/vnd.google.colaboratory.intrinsic+json": {
              "type": "string"
            }
          },
          "metadata": {},
          "execution_count": 9
        }
      ]
    },
    {
      "cell_type": "code",
      "source": [
        "match.start()"
      ],
      "metadata": {
        "colab": {
          "base_uri": "https://localhost:8080/"
        },
        "id": "Pk2pFvnJWlgU",
        "outputId": "416ccbb4-0395-47a0-bc25-2e4bdfc026d9"
      },
      "execution_count": null,
      "outputs": [
        {
          "output_type": "execute_result",
          "data": {
            "text/plain": [
              "0"
            ]
          },
          "metadata": {},
          "execution_count": 10
        }
      ]
    },
    {
      "cell_type": "code",
      "source": [
        "match.end()"
      ],
      "metadata": {
        "colab": {
          "base_uri": "https://localhost:8080/"
        },
        "id": "AfV2aPLOWqrr",
        "outputId": "4b60292b-35b7-410d-966f-e250b5415cd5"
      },
      "execution_count": null,
      "outputs": [
        {
          "output_type": "execute_result",
          "data": {
            "text/plain": [
              "3"
            ]
          },
          "metadata": {},
          "execution_count": 11
        }
      ]
    },
    {
      "cell_type": "code",
      "source": [
        "match.group()"
      ],
      "metadata": {
        "colab": {
          "base_uri": "https://localhost:8080/",
          "height": 35
        },
        "id": "Q6MZWk3uWu7j",
        "outputId": "0a422ae0-45c1-4f89-fa3a-d92ebadf9501"
      },
      "execution_count": null,
      "outputs": [
        {
          "output_type": "execute_result",
          "data": {
            "text/plain": [
              "'S9A'"
            ],
            "application/vnd.google.colaboratory.intrinsic+json": {
              "type": "string"
            }
          },
          "metadata": {},
          "execution_count": 12
        }
      ]
    },
    {
      "cell_type": "code",
      "source": [
        "test_string"
      ],
      "metadata": {
        "colab": {
          "base_uri": "https://localhost:8080/",
          "height": 35
        },
        "id": "9PLC4-KQW4OT",
        "outputId": "f45f84ba-e34d-4fe6-b83b-dab8ace11be2"
      },
      "execution_count": null,
      "outputs": [
        {
          "output_type": "execute_result",
          "data": {
            "text/plain": [
              "'S9A8M7U6'"
            ],
            "application/vnd.google.colaboratory.intrinsic+json": {
              "type": "string"
            }
          },
          "metadata": {},
          "execution_count": 13
        }
      ]
    },
    {
      "cell_type": "code",
      "source": [
        "pattern = re.compile(r\"8m7\")\n",
        "match = re.search(pattern, test_string)\n",
        "match"
      ],
      "metadata": {
        "id": "dXYmpf2bW-ID"
      },
      "execution_count": null,
      "outputs": []
    },
    {
      "cell_type": "code",
      "source": [
        "match.group()"
      ],
      "metadata": {
        "colab": {
          "base_uri": "https://localhost:8080/",
          "height": 141
        },
        "id": "WYGRoeC4Xd5k",
        "outputId": "b5897fc6-a7f2-41cb-db68-c10de0660484"
      },
      "execution_count": null,
      "outputs": [
        {
          "output_type": "error",
          "ename": "AttributeError",
          "evalue": "'NoneType' object has no attribute 'group'",
          "traceback": [
            "\u001b[0;31m---------------------------------------------------------------------------\u001b[0m",
            "\u001b[0;31mAttributeError\u001b[0m                            Traceback (most recent call last)",
            "\u001b[0;32m<ipython-input-15-bf08e9dfb841>\u001b[0m in \u001b[0;36m<cell line: 0>\u001b[0;34m()\u001b[0m\n\u001b[0;32m----> 1\u001b[0;31m \u001b[0mmatch\u001b[0m\u001b[0;34m.\u001b[0m\u001b[0mgroup\u001b[0m\u001b[0;34m(\u001b[0m\u001b[0;34m)\u001b[0m\u001b[0;34m\u001b[0m\u001b[0;34m\u001b[0m\u001b[0m\n\u001b[0m",
            "\u001b[0;31mAttributeError\u001b[0m: 'NoneType' object has no attribute 'group'"
          ]
        }
      ]
    },
    {
      "cell_type": "code",
      "source": [
        "start_index,end_index = match.span()\n",
        "test_string[start_index:end_index]"
      ],
      "metadata": {
        "colab": {
          "base_uri": "https://localhost:8080/",
          "height": 159
        },
        "id": "dCnMNxX4XyWM",
        "outputId": "a7172461-0a1a-4678-8841-43dccd728fbe"
      },
      "execution_count": null,
      "outputs": [
        {
          "output_type": "error",
          "ename": "AttributeError",
          "evalue": "'NoneType' object has no attribute 'span'",
          "traceback": [
            "\u001b[0;31m---------------------------------------------------------------------------\u001b[0m",
            "\u001b[0;31mAttributeError\u001b[0m                            Traceback (most recent call last)",
            "\u001b[0;32m<ipython-input-16-bd2d3600c73e>\u001b[0m in \u001b[0;36m<cell line: 0>\u001b[0;34m()\u001b[0m\n\u001b[0;32m----> 1\u001b[0;31m \u001b[0mstart_index\u001b[0m\u001b[0;34m,\u001b[0m\u001b[0mend_index\u001b[0m \u001b[0;34m=\u001b[0m \u001b[0mmatch\u001b[0m\u001b[0;34m.\u001b[0m\u001b[0mspan\u001b[0m\u001b[0;34m(\u001b[0m\u001b[0;34m)\u001b[0m\u001b[0;34m\u001b[0m\u001b[0;34m\u001b[0m\u001b[0m\n\u001b[0m\u001b[1;32m      2\u001b[0m \u001b[0mtest_string\u001b[0m\u001b[0;34m[\u001b[0m\u001b[0mstart_index\u001b[0m\u001b[0;34m:\u001b[0m\u001b[0mend_index\u001b[0m\u001b[0;34m]\u001b[0m\u001b[0;34m\u001b[0m\u001b[0;34m\u001b[0m\u001b[0m\n",
            "\u001b[0;31mAttributeError\u001b[0m: 'NoneType' object has no attribute 'span'"
          ]
        }
      ]
    },
    {
      "cell_type": "code",
      "source": [
        "#re.findall()"
      ],
      "metadata": {
        "id": "HrqKPY0jYKO-"
      },
      "execution_count": null,
      "outputs": []
    },
    {
      "cell_type": "code",
      "source": [
        "pattern = re.compile(r\"s9a\")\n",
        "match = re.findall(pattern,test_string)\n",
        "match\n",
        "match.span()"
      ],
      "metadata": {
        "id": "doQOr3n4YRzj"
      },
      "execution_count": null,
      "outputs": []
    },
    {
      "cell_type": "code",
      "source": [
        "#re.finditer()"
      ],
      "metadata": {
        "id": "CSwOUoljZChb"
      },
      "execution_count": null,
      "outputs": []
    },
    {
      "cell_type": "code",
      "source": [
        "pattern = re.compile(r.\"m7u\")\n",
        "match = re.finditer(pattern,test_string)\n",
        "for match in match:\n",
        "  print(match)"
      ],
      "metadata": {
        "id": "KihzAP-yZJwC"
      },
      "execution_count": null,
      "outputs": []
    },
    {
      "cell_type": "code",
      "source": [
        "#META CHARATERS\n",
        "test_string_1 = \"SAMU29\""
      ],
      "metadata": {
        "id": "0MUOXoBGZuta"
      },
      "execution_count": null,
      "outputs": []
    },
    {
      "cell_type": "code",
      "source": [
        "test_string_2 = \"the cat eat rat\""
      ],
      "metadata": {
        "id": "_ORYiKNBaohz"
      },
      "execution_count": null,
      "outputs": []
    },
    {
      "cell_type": "code",
      "source": [
        "test_string_3 = \"the cat sit on mat\""
      ],
      "metadata": {
        "id": "0EEp3fiJa1VC"
      },
      "execution_count": null,
      "outputs": []
    },
    {
      "cell_type": "code",
      "source": [
        "text = \"\"\"Helloworld!\n",
        "It is fun.\"\"\""
      ],
      "metadata": {
        "id": "llxgUey6a_Lj"
      },
      "execution_count": null,
      "outputs": []
    },
    {
      "cell_type": "code",
      "source": [
        "pattern = re.compile(r\".\")\n",
        "match = re.findall(pattern,test_string_1)\n",
        "for match in match:\n",
        "  print(match)"
      ],
      "metadata": {
        "id": "uVWAqd8EcBZ6"
      },
      "execution_count": null,
      "outputs": []
    },
    {
      "cell_type": "code",
      "source": [
        "import re\n",
        "pattern = re.compile(r\".\") # ignores \\n character\n",
        "\n",
        "match = re.finditer(pattern, test_string_1)\n",
        "\n",
        "for match in matches:\n",
        "\tprint(match)"
      ],
      "metadata": {
        "id": "6GwUZgx6XAJL",
        "colab": {
          "base_uri": "https://localhost:8080/",
          "height": 211
        },
        "outputId": "0140c79f-d231-459f-b6d6-1fb7fa22b018"
      },
      "execution_count": null,
      "outputs": [
        {
          "output_type": "error",
          "ename": "NameError",
          "evalue": "name 'test_string_1' is not defined",
          "traceback": [
            "\u001b[0;31m---------------------------------------------------------------------------\u001b[0m",
            "\u001b[0;31mNameError\u001b[0m                                 Traceback (most recent call last)",
            "\u001b[0;32m<ipython-input-17-8d55fc23f585>\u001b[0m in \u001b[0;36m<cell line: 0>\u001b[0;34m()\u001b[0m\n\u001b[1;32m      2\u001b[0m \u001b[0mpattern\u001b[0m \u001b[0;34m=\u001b[0m \u001b[0mre\u001b[0m\u001b[0;34m.\u001b[0m\u001b[0mcompile\u001b[0m\u001b[0;34m(\u001b[0m\u001b[0;34mr\".\"\u001b[0m\u001b[0;34m)\u001b[0m \u001b[0;31m# ignores \\n character\u001b[0m\u001b[0;34m\u001b[0m\u001b[0;34m\u001b[0m\u001b[0m\n\u001b[1;32m      3\u001b[0m \u001b[0;34m\u001b[0m\u001b[0m\n\u001b[0;32m----> 4\u001b[0;31m \u001b[0mmatch\u001b[0m \u001b[0;34m=\u001b[0m \u001b[0mre\u001b[0m\u001b[0;34m.\u001b[0m\u001b[0mfinditer\u001b[0m\u001b[0;34m(\u001b[0m\u001b[0mpattern\u001b[0m\u001b[0;34m,\u001b[0m \u001b[0mtest_string_1\u001b[0m\u001b[0;34m)\u001b[0m\u001b[0;34m\u001b[0m\u001b[0;34m\u001b[0m\u001b[0m\n\u001b[0m\u001b[1;32m      5\u001b[0m \u001b[0;34m\u001b[0m\u001b[0m\n\u001b[1;32m      6\u001b[0m \u001b[0;32mfor\u001b[0m \u001b[0mmatch\u001b[0m \u001b[0;32min\u001b[0m \u001b[0mmatches\u001b[0m\u001b[0;34m:\u001b[0m\u001b[0;34m\u001b[0m\u001b[0;34m\u001b[0m\u001b[0m\n",
            "\u001b[0;31mNameError\u001b[0m: name 'test_string_1' is not defined"
          ]
        }
      ]
    },
    {
      "cell_type": "code",
      "source": [
        "test_string_1 = \"123abc.456789abc123defGHI.ABC \\n xyz345WXYZ\""
      ],
      "metadata": {
        "id": "OYd7Xo1HXsS1"
      },
      "execution_count": null,
      "outputs": []
    },
    {
      "cell_type": "code",
      "source": [
        "test_string_2 = \"The cat sat on the mat with a bat and a hat.\""
      ],
      "metadata": {
        "id": "oQ_NlewdpyPr"
      },
      "execution_count": null,
      "outputs": []
    },
    {
      "cell_type": "code",
      "source": [
        "test_string_3 = \"The cat sat on the mat with a bat and a hat. $at, 8at, at.\""
      ],
      "metadata": {
        "id": "IT5HEXS3p9c_"
      },
      "execution_count": null,
      "outputs": []
    },
    {
      "cell_type": "code",
      "source": [
        "text = \"\"\"Hello World!\n",
        "This is a test.\n",
        "Hello again!\n",
        "Python is fun.\n",
        "Hello Python\"\"\""
      ],
      "metadata": {
        "id": "J13kUfP3qDSo"
      },
      "execution_count": null,
      "outputs": []
    },
    {
      "cell_type": "code",
      "source": [
        "pattern = re.compile(r\".\") # ignores \\n character\n",
        "\n",
        "matches = re.finditer(pattern, test_string_1)\n",
        "\n",
        "for match in matches:\n",
        "\tprint(match)"
      ],
      "metadata": {
        "colab": {
          "base_uri": "https://localhost:8080/"
        },
        "id": "jjHLbHu-qL_x",
        "outputId": "7c25221f-c5af-4b3d-e7ec-bdd0f5132d07"
      },
      "execution_count": null,
      "outputs": [
        {
          "output_type": "stream",
          "name": "stdout",
          "text": [
            "<re.Match object; span=(0, 1), match='1'>\n",
            "<re.Match object; span=(1, 2), match='2'>\n",
            "<re.Match object; span=(2, 3), match='3'>\n",
            "<re.Match object; span=(3, 4), match='a'>\n",
            "<re.Match object; span=(4, 5), match='b'>\n",
            "<re.Match object; span=(5, 6), match='c'>\n",
            "<re.Match object; span=(6, 7), match='.'>\n",
            "<re.Match object; span=(7, 8), match='4'>\n",
            "<re.Match object; span=(8, 9), match='5'>\n",
            "<re.Match object; span=(9, 10), match='6'>\n",
            "<re.Match object; span=(10, 11), match='7'>\n",
            "<re.Match object; span=(11, 12), match='8'>\n",
            "<re.Match object; span=(12, 13), match='9'>\n",
            "<re.Match object; span=(13, 14), match='a'>\n",
            "<re.Match object; span=(14, 15), match='b'>\n",
            "<re.Match object; span=(15, 16), match='c'>\n",
            "<re.Match object; span=(16, 17), match='1'>\n",
            "<re.Match object; span=(17, 18), match='2'>\n",
            "<re.Match object; span=(18, 19), match='3'>\n",
            "<re.Match object; span=(19, 20), match='d'>\n",
            "<re.Match object; span=(20, 21), match='e'>\n",
            "<re.Match object; span=(21, 22), match='f'>\n",
            "<re.Match object; span=(22, 23), match='G'>\n",
            "<re.Match object; span=(23, 24), match='H'>\n",
            "<re.Match object; span=(24, 25), match='I'>\n",
            "<re.Match object; span=(25, 26), match='.'>\n",
            "<re.Match object; span=(26, 27), match='A'>\n",
            "<re.Match object; span=(27, 28), match='B'>\n",
            "<re.Match object; span=(28, 29), match='C'>\n",
            "<re.Match object; span=(29, 30), match=' '>\n",
            "<re.Match object; span=(31, 32), match=' '>\n",
            "<re.Match object; span=(32, 33), match='x'>\n",
            "<re.Match object; span=(33, 34), match='y'>\n",
            "<re.Match object; span=(34, 35), match='z'>\n",
            "<re.Match object; span=(35, 36), match='3'>\n",
            "<re.Match object; span=(36, 37), match='4'>\n",
            "<re.Match object; span=(37, 38), match='5'>\n",
            "<re.Match object; span=(38, 39), match='W'>\n",
            "<re.Match object; span=(39, 40), match='X'>\n",
            "<re.Match object; span=(40, 41), match='Y'>\n",
            "<re.Match object; span=(41, 42), match='Z'>\n"
          ]
        }
      ]
    },
    {
      "cell_type": "code",
      "source": [
        "print(text, end=\"\\n\\n\")\n",
        "\n",
        "pattern = re.compile(r\"Hello\") # This gives all occurences\n",
        "\n",
        "matches = re.finditer(pattern, text)\n",
        "\n",
        "for match in matches:\n",
        "\tprint(match)"
      ],
      "metadata": {
        "colab": {
          "base_uri": "https://localhost:8080/"
        },
        "id": "FpFiGjQDqSlh",
        "outputId": "3ef53478-4cd9-4935-cfc0-839210ec4712"
      },
      "execution_count": null,
      "outputs": [
        {
          "output_type": "stream",
          "name": "stdout",
          "text": [
            "Hello World!\n",
            "This is a test.\n",
            "Hello again!\n",
            "Python is fun.\n",
            "Hello Python\n",
            "\n",
            "<re.Match object; span=(0, 5), match='Hello'>\n",
            "<re.Match object; span=(29, 34), match='Hello'>\n",
            "<re.Match object; span=(57, 62), match='Hello'>\n"
          ]
        }
      ]
    },
    {
      "cell_type": "code",
      "source": [
        "print(test_string, end=\"\\n\\n\")\n",
        "\n",
        "pattern  = re.compile(r\"[aeiouAEIOU]\") # 2nd example\n",
        "\n",
        "matches = re.finditer(pattern, test_string)\n",
        "\n",
        "for match in matches:\n",
        "\tprint(match)"
      ],
      "metadata": {
        "colab": {
          "base_uri": "https://localhost:8080/"
        },
        "id": "hybxnHbTqbD7",
        "outputId": "984bab76-d5ad-412e-f99f-9a524b7735fc"
      },
      "execution_count": null,
      "outputs": [
        {
          "output_type": "stream",
          "name": "stdout",
          "text": [
            "S9A8M7U6\n",
            "\n",
            "<re.Match object; span=(2, 3), match='A'>\n",
            "<re.Match object; span=(6, 7), match='U'>\n"
          ]
        }
      ]
    },
    {
      "cell_type": "code",
      "source": [
        "print(test_string, end=\"\\n\\n\")\n",
        "\n",
        "pattern  = re.compile(r\"[^aeiouAEIOU0-9%$#. ]\")\n",
        "\n",
        "matches = re.finditer(pattern, test_string)\n",
        "\n",
        "for match in matches:\n",
        "\tprint(match)"
      ],
      "metadata": {
        "colab": {
          "base_uri": "https://localhost:8080/"
        },
        "id": "J6pMnoRFqmBG",
        "outputId": "ead0a35d-45cc-497a-da5a-ab15a48f63b4"
      },
      "execution_count": null,
      "outputs": [
        {
          "output_type": "stream",
          "name": "stdout",
          "text": [
            "S9A8M7U6\n",
            "\n",
            "<re.Match object; span=(0, 1), match='S'>\n",
            "<re.Match object; span=(4, 5), match='M'>\n"
          ]
        }
      ]
    },
    {
      "cell_type": "code",
      "source": [],
      "metadata": {
        "id": "qkQH3SrLqz9w"
      },
      "execution_count": null,
      "outputs": []
    }
  ]
}